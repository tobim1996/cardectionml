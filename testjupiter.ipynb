{
 "cells": [
  {
   "cell_type": "code",
   "execution_count": 1,
   "metadata": {
    "collapsed": true
   },
   "outputs": [
    {
     "data": {
      "text/plain": "'5'"
     },
     "execution_count": 1,
     "metadata": {},
     "output_type": "execute_result"
    }
   ],
   "source": [
    "import cv2\n",
    "import pafy\n",
    "import datetime\n",
    "import numpy as np\n",
    "import pandas as pd\n",
    "from object_detection import ObjectDetection\n",
    "import time\n",
    "\n",
    "# URL FROM YOUTUBE STREAM HERE\n",
    "url = \"https://www.youtube.com/watch?v=YByJ2h0T5JY\"\n",
    "\n",
    "camera_source = pafy.new(url).getbest()\n",
    "capture = cv2.VideoCapture(camera_source.url)\n",
    "\n",
    "#INIT THINGS FROM PROJECT CAN BE VERY IMPORTANT\n",
    "od = ObjectDetection()\n",
    "\n",
    "#VARIABles FOR CAR COUNT & CAR SPEED\n",
    "carcount = 0\n",
    "last_carspeed = 0\n",
    "\n",
    "#DEFINE LISTS TO SAVE FOR LATER PANDAS DATAFRAME KOKENTENATIOn\n",
    "#CARID = []\n",
    "#CARSPEED = []\n",
    "#CARCOLOUR = []\n",
    "#DETECTIONTIME = []\n",
    "\n",
    "#DEFINE AREA FOR DETECTION COORDINATES\n",
    "area_detection = [(327,188),(549,171),(969,303),(563,413)]\n",
    "area_speed = [(1213,369),(779, 561)]\n",
    "\n",
    "#LOOP FOR OUTPUT CAPTURE VIDEO FOR LATER PROCESSING\n",
    "while (True):\n",
    "\n",
    "    # Capture frame-by-frame\n",
    "    ret, current_frame = capture.read()\n",
    "\n",
    "    height, width, _ = current_frame.shape\n",
    "\n",
    "    #BLEND TIME IN FRAME WITH COLOUR RIGHT HIGH CORNER INKLUSIVE FONT DEFINITION\n",
    "    font_date = cv2.FONT_HERSHEY_SCRIPT_SIMPLEX\n",
    "    font_carcount = cv2.FONT_ITALIC\n",
    "    dt = str(datetime.datetime.now().strftime(\"%d.%m.%Y %H:%M:%S\"))\n",
    "    carcountstr = \"Vehicle Detected: \"\n",
    "    lastspeedstr = \"Last Speed: \"\n",
    "\n",
    "\n",
    "    current_frame = cv2.putText(current_frame, dt,(0, 25),font_date, 1,(0, 255, 255),4, cv2.LINE_8)\n",
    "    current_frame = cv2.putText(current_frame, carcountstr+str(carcount),(0, 700),font_carcount, 1,(0, 0, 255),4, cv2.LINE_8)\n",
    "    current_frame = cv2.putText(current_frame, lastspeedstr+str(last_carspeed)+\" Km/h\",(940, 25),font_carcount, 1,(0,0,128),4, cv2.LINE_8)\n",
    "\n",
    "\n",
    "    #DEFINTION OF ROI (REGION OF INTEREST) IN PX FROM ORIGINAL FRAME\n",
    "    #MUST BE RECTANCLE NOT RECTANGLE NOT WORK\n",
    "    y1 = 153\n",
    "    y2 = 425\n",
    "    x1 = 298\n",
    "    x2 = 976\n",
    "    roi = current_frame[y1:y2, x1:x2]\n",
    "\n",
    "    #DRAW AREA PERMANANTLY ON FRAME FOR ROI AND SPEED DETECTION WITH area_detection and area_speed VARIABLES\n",
    "    cv2.polylines(current_frame, [np.array(area_detection, np.int32)], True, (15, 220, 10), 8)\n",
    "    cv2.polylines(current_frame, [np.array(area_speed, np.int32)], True, (212, 255, 127), 8)\n",
    "\n",
    "    #Detect Objects on Frame\n",
    "    (class_ids, scores,boxes) = od.detect(roi)\n",
    "    for box in boxes:\n",
    "        #print(box)\n",
    "        (x,y,w,h) = box\n",
    "        cv2.rectangle(roi, (x,y), (x+w,y+h), (0,255,0),2)\n",
    "\n",
    "    #DETECT CARID & CARDATE\n",
    "    #DETECT SPEED\n",
    "    #DETECT COLOUR\n",
    "\n",
    "    cv2.imshow('Predictive Analysis & Big Data Computer Vision', current_frame)\n",
    "    #cv2.imshow(\"RANGE OF INTEREST\", roi)\n",
    "    #cv2.imshow(\"MASK\",mask)\n",
    "    cv2.resizeWindow('Predictive Analysis & Big Data Computer Vision', 1280, 720)\n",
    "    #cv2.waitKey(15)\n",
    "\n",
    "    #BREAK THE LOOP WITH KEYBOARD INTERRUPT\n",
    "    if cv2.waitKey(20) & 0xFF == ord('q'):\n",
    "        cv2.destroyAllWindows()\n",
    "        break\n",
    "\n",
    "#HERE THE EXPORT TO DATAFRAME BEGINS\n",
    "# VERY IMPORTANT\n",
    "\n",
    "\n",
    "# make list to pandas series datatype\n",
    "#se1 = pd.Series(year)\n",
    "#se2 = pd.Series(votes)\n",
    "#se4 = pd.Series(rating)\n",
    "\n",
    "#df = pd.DataFrame(movie)\n",
    "\n",
    "#CONCATANATION OF THE SERIES IMPORTANT STUFF\n",
    "#extra = pd.concat([se1, se2,  se4], axis=1)\n",
    "#final = pd.concat([df, extra], axis=1)\n",
    "\n",
    "#Essential here is header=none\n",
    "#header=None\n",
    "#colum = [\"CarID\",\"CarSpeed\", \"CarColour\", \"Detectiontime\"]\n",
    "\n",
    "#final.to_csv(\"final.csv\", header=colum, index_label=\"ID\")"
   ]
  },
  {
   "cell_type": "code",
   "execution_count": 6,
   "outputs": [
    {
     "data": {
      "text/plain": "           Day   Time   Colour   Speed\nCarID                                 \n0      Tuesday  11:49    black      15\n1      Tuesday  11:49    green      20\n2      Tuesday  11:49    black      33\n3      Tuesday  11:49   green       30\n4      Tuesday  11:50   yellow      20\n5      Tuesday  11:50    white      22\n6      Tuesday  11:50      red      24\n7      Tuesday  11:50     blue      27\n8      Tuesday  11:50   silver      30\n9      Tuesday  11:50   silver      16",
      "text/html": "<div>\n<style scoped>\n    .dataframe tbody tr th:only-of-type {\n        vertical-align: middle;\n    }\n\n    .dataframe tbody tr th {\n        vertical-align: top;\n    }\n\n    .dataframe thead th {\n        text-align: right;\n    }\n</style>\n<table border=\"1\" class=\"dataframe\">\n  <thead>\n    <tr style=\"text-align: right;\">\n      <th></th>\n      <th>Day</th>\n      <th>Time</th>\n      <th>Colour</th>\n      <th>Speed</th>\n    </tr>\n    <tr>\n      <th>CarID</th>\n      <th></th>\n      <th></th>\n      <th></th>\n      <th></th>\n    </tr>\n  </thead>\n  <tbody>\n    <tr>\n      <th>0</th>\n      <td>Tuesday</td>\n      <td>11:49</td>\n      <td>black</td>\n      <td>15</td>\n    </tr>\n    <tr>\n      <th>1</th>\n      <td>Tuesday</td>\n      <td>11:49</td>\n      <td>green</td>\n      <td>20</td>\n    </tr>\n    <tr>\n      <th>2</th>\n      <td>Tuesday</td>\n      <td>11:49</td>\n      <td>black</td>\n      <td>33</td>\n    </tr>\n    <tr>\n      <th>3</th>\n      <td>Tuesday</td>\n      <td>11:49</td>\n      <td>green</td>\n      <td>30</td>\n    </tr>\n    <tr>\n      <th>4</th>\n      <td>Tuesday</td>\n      <td>11:50</td>\n      <td>yellow</td>\n      <td>20</td>\n    </tr>\n    <tr>\n      <th>5</th>\n      <td>Tuesday</td>\n      <td>11:50</td>\n      <td>white</td>\n      <td>22</td>\n    </tr>\n    <tr>\n      <th>6</th>\n      <td>Tuesday</td>\n      <td>11:50</td>\n      <td>red</td>\n      <td>24</td>\n    </tr>\n    <tr>\n      <th>7</th>\n      <td>Tuesday</td>\n      <td>11:50</td>\n      <td>blue</td>\n      <td>27</td>\n    </tr>\n    <tr>\n      <th>8</th>\n      <td>Tuesday</td>\n      <td>11:50</td>\n      <td>silver</td>\n      <td>30</td>\n    </tr>\n    <tr>\n      <th>9</th>\n      <td>Tuesday</td>\n      <td>11:50</td>\n      <td>silver</td>\n      <td>16</td>\n    </tr>\n  </tbody>\n</table>\n</div>"
     },
     "execution_count": 6,
     "metadata": {},
     "output_type": "execute_result"
    }
   ],
   "source": [
    "import pandas as pd\n",
    "import numpy as np\n",
    "import matplotlib as plt\n",
    "\n",
    "x = pd.read_csv('car.csv',index_col=0)\n",
    "\n",
    "x"
   ],
   "metadata": {
    "collapsed": false,
    "pycharm": {
     "name": "#%%\n"
    }
   }
  },
  {
   "cell_type": "code",
   "execution_count": null,
   "outputs": [],
   "source": [],
   "metadata": {
    "collapsed": false,
    "pycharm": {
     "name": "#%%\n"
    }
   }
  }
 ],
 "metadata": {
  "kernelspec": {
   "display_name": "Python 3",
   "language": "python",
   "name": "python3"
  },
  "language_info": {
   "codemirror_mode": {
    "name": "ipython",
    "version": 2
   },
   "file_extension": ".py",
   "mimetype": "text/x-python",
   "name": "python",
   "nbconvert_exporter": "python",
   "pygments_lexer": "ipython2",
   "version": "2.7.6"
  }
 },
 "nbformat": 4,
 "nbformat_minor": 0
}