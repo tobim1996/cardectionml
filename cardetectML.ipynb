{
 "cells": [
  {
   "cell_type": "markdown",
   "source": [
    "PROGRAMM CAR DECTECTION PREDICTIVE ANALYSIS & BIG DATA\n",
    "TEAM 2\n",
    "TEAMMITGLIEDER Tobias Madaj, Rickiel Eric Sympe Nguebong, Al Shah Aziz, Darwin Hutama Manggala Putra"
   ],
   "metadata": {
    "collapsed": false
   }
  },
  {
   "cell_type": "code",
   "execution_count": 3,
   "outputs": [],
   "source": [
    "import cv2\n",
    "import pafy\n",
    "import datetime\n",
    "import numpy as np\n",
    "import pandas as pd\n",
    "from object_detection import ObjectDetection\n",
    "import time\n",
    "import math\n",
    "\n",
    "# URL FROM YOUTUBE STREAM HERE\n",
    "url = \"https://www.youtube.com/watch?v=YByJ2h0T5JY\"\n",
    "\n",
    "camera_source = pafy.new(url).getbest()\n",
    "capture = cv2.VideoCapture(camera_source.url)\n",
    "\n",
    "#INIT THINGS FROM PROJECT CAN BE VERY IMPORTANT\n",
    "od = ObjectDetection()\n",
    "\n",
    "#VARIABles FOR CAR COUNT & CAR SPEED\n",
    "carcount = 0\n",
    "last_carspeed = 0\n",
    "\n",
    "#DEFINE LISTS TO SAVE FOR LATER PANDAS DATAFRAME PROCESSING\n",
    "#CARID = []\n",
    "#CARSPEED = []\n",
    "#CARCOLOUR = []\n",
    "#DETECTIONTIME = []\n",
    "\n",
    "#DEFINE AREA FOR DETECTION COORDINATES\n",
    "area_detection = [(327,188),(549,171),(969,303),(563,413)]\n",
    "area_speed = [(1213,369),(779, 561)]\n",
    "\n",
    "#init Counting STUFF\n",
    "count = 0\n",
    "center_points_prev_frame = []\n",
    "\n",
    "tracking_objects = {}\n",
    "track_id = 0\n",
    "\n",
    "#LOOP FOR OUTPUT CAPTURE VIDEO FOR LATER PROCESSING\n",
    "while (True):\n",
    "\n",
    "    # Capture frame-by-frame\n",
    "    ret, current_frame = capture.read()\n",
    "\n",
    "    count += 1\n",
    "    if not ret:\n",
    "        break\n",
    "\n",
    "    center_points_cur_frame = []\n",
    "\n",
    "    height, width, _ = current_frame.shape\n",
    "\n",
    "    #BLEND TIME IN FRAME WITH COLOUR RIGHT HIGH CORNER INKLUSIVE FONT DEFINITION\n",
    "    font_date = cv2.FONT_HERSHEY_SCRIPT_SIMPLEX\n",
    "    font_carcount = cv2.FONT_ITALIC\n",
    "    dt = str(datetime.datetime.now().strftime(\"%d.%m.%Y %H:%M:%S\"))\n",
    "    carcountstr = \"Vehicle Detected: \"\n",
    "    lastspeedstr = \"Last Speed: \"\n",
    "\n",
    "\n",
    "    #DEFINTION OF ROI (REGION OF INTEREST) IN PX FROM ORIGINAL FRAME\n",
    "    #MUST BE RECTANCLE NOT RECTANGLE NOT WORK\n",
    "    y1 = 153\n",
    "    y2 = 425\n",
    "    x1 = 298\n",
    "    x2 = 976\n",
    "    roi = current_frame[y1:y2, x1:x2]\n",
    "\n",
    "    #DRAW AREA PERMANANTLY ON FRAME FOR ROI AND SPEED DETECTION WITH area_detection and area_speed VARIABLES\n",
    "    #cv2.polylines(current_frame, [np.array(area_detection, np.int32)], True, (15, 220, 10), 4)\n",
    "    cv2.polylines(current_frame, [np.array(area_speed, np.int32)], True, (212, 255, 127), 4)\n",
    "\n",
    "    #Detect Objects on Frame\n",
    "    (class_ids, scores,boxes) = od.detect(current_frame)\n",
    "    for box in boxes:\n",
    "        #print(box)\n",
    "        (x,y,w,h) = box\n",
    "        cx = int((x + x + w) / 2)\n",
    "        cy = int((y + y + h) / 2)\n",
    "\n",
    "        center_points_cur_frame.append((cx,cy))\n",
    "        #print(\"Frame N\", count, \" \", x,y,w,h)\n",
    "\n",
    "        #cv2.circle(roi, pt, 5, (0,0,255), -1)\n",
    "        cv2.rectangle(current_frame, (x,y), (x+w,y+h), (0,255,0), 2)\n",
    "\n",
    "    # Only at the beginning we compare previous and current frame\n",
    "    if count <= 2:\n",
    "        for pt in center_points_cur_frame:\n",
    "            for pt2 in center_points_prev_frame:\n",
    "                distance = math.hypot(pt2[0] - pt[0], pt2[1] - pt[1])\n",
    "\n",
    "                if distance < 20:\n",
    "                    tracking_objects[track_id] = pt\n",
    "                    track_id += 1\n",
    "    else:\n",
    "\n",
    "        tracking_objects_copy = tracking_objects.copy()\n",
    "        center_points_cur_frame_copy = center_points_cur_frame.copy()\n",
    "\n",
    "        for object_id, pt2 in tracking_objects_copy.items():\n",
    "            object_exists = False\n",
    "            for pt in center_points_cur_frame_copy:\n",
    "                distance = math.hypot(pt2[0] - pt[0], pt2[1] - pt[1])\n",
    "\n",
    "                # Update IDs position\n",
    "                if distance < 20:\n",
    "                    tracking_objects[object_id] = pt\n",
    "                    objects_exists = True\n",
    "                    if pt in center_points_cur_frame:\n",
    "                        center_points_cur_frame.remove(pt)\n",
    "                    continue\n",
    "\n",
    "            #Remove IDs lost\n",
    "            if not object_exists:\n",
    "                tracking_objects.pop(object_id)\n",
    "    # Add new IDs found\n",
    "    for pt in center_points_cur_frame:\n",
    "        tracking_objects[track_id] = pt\n",
    "        track_id += 1\n",
    "\n",
    "    for object_id, pt in tracking_objects.items():\n",
    "        cv2.circle(roi, pt, 5, (0,0,255), -1)\n",
    "        cv2.putText(roi, str(object_id), (pt[0], pt[1] - 7 ), 0, 1, (0, 0, 255), 2)\n",
    "\n",
    "\n",
    "    current_frame = cv2.putText(current_frame, dt,(0, 25),font_date, 1,(0, 255, 255),4, cv2.LINE_8)\n",
    "    current_frame = cv2.putText(current_frame, carcountstr+str(carcount),(0, 700),font_carcount, 1,(0, 0, 255),4, cv2.LINE_8)\n",
    "    current_frame = cv2.putText(current_frame, lastspeedstr+str(last_carspeed)+\" Km/h\",(940, 25),font_carcount, 1,(0,0,128),4, cv2.LINE_8)\n",
    "\n",
    "    cv2.imshow('Computer Vision CardetectionML-Frame', current_frame)\n",
    "    #cv2.imshow(\"RANGE OF INTEREST\", roi)\n",
    "    #cv2.imshow(\"MASK\",mask)\n",
    "    cv2.resizeWindow('Computer Vision CardetectionML-Frame', 1280, 720)\n",
    "    #cv2.waitKey(15)\n",
    "\n",
    "    #Make a Copy of Points\n",
    "    center_points_prev_frame = center_points_cur_frame.copy()\n",
    "\n",
    "    #BREAK THE LOOP WITH KEYBOARD INTERRUPT\n",
    "    if cv2.waitKey(18) & 0xFF == ord('q'):\n",
    "        cv2.destroyAllWindows()\n",
    "        capture.release()\n",
    "        break\n",
    "\n",
    "#HERE THE EXPORT TO DATAFRAME BEGINS\n",
    "# VERY IMPORTANT\n",
    "\n",
    "# make list to pandas series datatype\n",
    "\n",
    "#se1 = pd.Series(year)\n",
    "#se2 = pd.Series(votes)\n",
    "#se4 = pd.Series(rating)\n",
    "\n",
    "#df = pd.DataFrame(movie)\n",
    "\n",
    "#CONCATANATION OF THE SERIES IMPORTANT STUFF\n",
    "#extra = pd.concat([se1, se2,  se4], axis=1)\n",
    "#final = pd.concat([df, extra], axis=1)\n",
    "\n",
    "#Essential here is header=none\n",
    "#header=None\n",
    "#colum = [\"CarID\",\"CarSpeed\", \"CarColour\", \"Detectiontime\"]\n",
    "\n",
    "#final.to_csv(\"final.csv\", header=colum, index_label=\"ID\")"
   ],
   "metadata": {
    "collapsed": false,
    "pycharm": {
     "name": "#%%\n"
    }
   }
  },
  {
   "cell_type": "markdown",
   "source": [
    "Stream OPENCV über Flask"
   ],
   "metadata": {
    "collapsed": false
   }
  },
  {
   "cell_type": "code",
   "execution_count": 7,
   "outputs": [
    {
     "name": "stderr",
     "output_type": "stream",
     "text": [
      "127.0.0.1 - - [12/Jun/2022 11:00:14] \"GET / HTTP/1.1\" 200 -\n",
      "127.0.0.1 - - [12/Jun/2022 11:00:16] \"GET /video_feed HTTP/1.1\" 200 -\n",
      "127.0.0.1 - - [12/Jun/2022 11:00:47] \"GET / HTTP/1.1\" 200 -\n",
      "127.0.0.1 - - [12/Jun/2022 11:00:49] \"GET /video_feed HTTP/1.1\" 200 -\n"
     ]
    }
   ],
   "source": [
    "from flask import Flask, render_template, Response\n",
    "import cv2\n",
    "import pafy\n",
    "import datetime\n",
    "import math\n",
    "import numpy as np\n",
    "import imutils\n",
    "import pandas as pd\n",
    "from object_detection import ObjectDetection\n",
    "import time\n",
    "\n",
    "app = Flask(__name__)\n",
    "\n",
    "url = \"https://www.youtube.com/watch?v=YByJ2h0T5JY\"\n",
    "od = ObjectDetection()\n",
    "camera_source = pafy.new(url).getbest()\n",
    "camera = cv2.VideoCapture(camera_source.url)\n",
    "\n",
    "#DEFINE AREA FOR DETECTION COORDINATES\n",
    "area_detection = [(327,188),(549,171),(969,303),(563,413)]\n",
    "area_speed = [(1213,369),(779, 561)]\n",
    "\n",
    "#VARIABles FOR CAR COUNT & CAR SPEED\n",
    "carcount = 0\n",
    "last_carspeed = 0\n",
    "\n",
    "def gen_frames():  # generate frame by frame from LIVE STREAM\n",
    "    while True:\n",
    "        success, frame = camera.read()  # read the camera frame\n",
    "        frame = imutils.resize(frame, width=1280,height=720 )\n",
    "\n",
    "        # BLEND TIME IN FRAME WITH COLOUR RIGHT HIGH CORNER INKLUSIVE FONT DEFINITION\n",
    "        font_date = cv2.FONT_HERSHEY_SCRIPT_SIMPLEX\n",
    "        font_carcount = cv2.FONT_ITALIC\n",
    "        dt = str(datetime.datetime.now().strftime(\"%d.%m.%Y %H:%M:%S\"))\n",
    "        carcountstr = \"Vehicle Detected: \"\n",
    "        lastspeedstr = \"Last Speed: \"\n",
    "\n",
    "        frame = cv2.putText(frame, dt, (0, 25), font_date, 1, (0, 255, 255), 4, cv2.LINE_8)\n",
    "        frame = cv2.putText(frame, carcountstr + str(carcount), (0, 700), font_carcount, 1, (0, 0, 255),4, cv2.LINE_8)\n",
    "        frame = cv2.putText(frame, lastspeedstr + str(last_carspeed) + \" Km/h\", (940, 25),font_carcount, 1, (0, 0, 128), 4, cv2.LINE_8)\n",
    "\n",
    "        #DRAW AREA PERMANANTLY ON FRAME FOR ROI AND SPEED DETECTION WITH area_detection and area_speed VARIABLES\n",
    "        cv2.polylines(frame, [np.array(area_detection, np.int32)], True, (15, 220, 10), 8)\n",
    "        cv2.polylines(frame, [np.array(area_speed, np.int32)], True, (212, 255, 127), 8)\n",
    "\n",
    "        #Detect Objects on Frame\n",
    "        (class_ids, scores,boxes) = od.detect(frame)\n",
    "        for box in boxes:\n",
    "            #print(box)\n",
    "            (x,y,w,h) = box\n",
    "            cv2.rectangle(frame, (x,y), (x+w,y+h), (0,255,0),2)\n",
    "\n",
    "        if not success:\n",
    "            break\n",
    "        else:\n",
    "            ret, buffer = cv2.imencode('.jpg', frame)\n",
    "            frame = buffer.tobytes()\n",
    "            yield (b'--frame\\r\\n'\n",
    "                   b'Content-Type: image/jpeg\\r\\n\\r\\n' + frame + b'\\r\\n')  # concat frame one by one and show result\n",
    "\n",
    "@app.route('/video_feed')\n",
    "def video_feed():\n",
    "    #Video streaming route. Put this in the src attribute of an img tag\n",
    "    return Response(gen_frames(), mimetype='multipart/x-mixed-replace; boundary=frame')\n",
    "\n",
    "#RUN WEB-SERVER to see PANDAS DATAFRAME in BROWSER OVER FLASK WEB SERVER WITHOUT CSS\n",
    "@app.route('/dataframe')\n",
    "def hello():\n",
    "    x = pd.read_csv('carexample.csv',index_col=0)\n",
    "    return x.style.to_html()\n",
    "\n",
    "@app.route('/')\n",
    "def index():\n",
    "    \"\"\"Video streaming home page.\"\"\"\n",
    "    return render_template('index.html')\n",
    "\n",
    "app.run(host='0.0.0.0', port=81)"
   ],
   "metadata": {
    "collapsed": false,
    "pycharm": {
     "name": "#%%\n"
    }
   }
  },
  {
   "cell_type": "markdown",
   "source": [
    "Auswertung des Dataframes mittels Matplotlib"
   ],
   "metadata": {
    "collapsed": false
   }
  },
  {
   "cell_type": "code",
   "execution_count": null,
   "outputs": [],
   "source": [
    "import matplotlib as plt\n",
    "# Abschnitt Programmauswertung\n",
    "\n",
    "df1 = pd.read_csv('carexample.csv')"
   ],
   "metadata": {
    "collapsed": false,
    "pycharm": {
     "name": "#%%\n"
    }
   }
  },
  {
   "cell_type": "markdown",
   "source": [
    "Das Auto mit der höchsten Geschwindigkeit"
   ],
   "metadata": {
    "collapsed": false
   }
  },
  {
   "cell_type": "code",
   "execution_count": null,
   "outputs": [],
   "source": [
    "df1.max()"
   ],
   "metadata": {
    "collapsed": false,
    "pycharm": {
     "name": "#%%\n"
    }
   }
  },
  {
   "cell_type": "markdown",
   "source": [
    "Das Auto mit der niedrigster Geschwindigkeit"
   ],
   "metadata": {
    "collapsed": false
   }
  },
  {
   "cell_type": "code",
   "execution_count": null,
   "outputs": [],
   "source": [
    "df1.min()"
   ],
   "metadata": {
    "collapsed": false,
    "pycharm": {
     "name": "#%%\n"
    }
   }
  },
  {
   "cell_type": "markdown",
   "source": [
    "Die durchschnitts Geschwindigkeit aller Autos"
   ],
   "metadata": {
    "collapsed": false
   }
  },
  {
   "cell_type": "code",
   "execution_count": null,
   "outputs": [],
   "source": [
    "df2 = df1['Speed'].mean()\n",
    "df2"
   ],
   "metadata": {
    "collapsed": false,
    "pycharm": {
     "name": "#%%\n"
    }
   }
  },
  {
   "cell_type": "markdown",
   "source": [],
   "metadata": {
    "collapsed": false
   }
  }
 ],
 "metadata": {
  "kernelspec": {
   "display_name": "Python 3",
   "language": "python",
   "name": "python3"
  },
  "language_info": {
   "codemirror_mode": {
    "name": "ipython",
    "version": 2
   },
   "file_extension": ".py",
   "mimetype": "text/x-python",
   "name": "python",
   "nbconvert_exporter": "python",
   "pygments_lexer": "ipython2",
   "version": "2.7.6"
  }
 },
 "nbformat": 4,
 "nbformat_minor": 0
}